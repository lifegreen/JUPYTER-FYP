{
 "cells": [
  {
   "cell_type": "code",
   "execution_count": 80,
   "metadata": {},
   "outputs": [],
   "source": [
    "import numpy as np\n",
    "\n",
    "from scipy.io import loadmat\n",
    "import os\n",
    "import re\n",
    "\n",
    "import matplotlib.pyplot as plt\n",
    "from sklearn.metrics import plot_confusion_matrix\n",
    "\n",
    "from keras.regularizers import l1, l2"
   ]
  },
  {
   "cell_type": "code",
   "execution_count": 72,
   "metadata": {},
   "outputs": [],
   "source": [
    "def isListEmpty(inList):\n",
    "# Checks if a list consists only of Empty nested lists\n",
    "        if isinstance(inList, list): # if list (returns false if empty)\n",
    "            return all(map(isListEmpty, inList))\n",
    "        return False # Not a list\n",
    "\n",
    "class NinaproDB:\n",
    "    winSize = 1024\n",
    "    step = 128\n",
    "    subCount = 0\n",
    "\n",
    "    def __init__(self, gesNum):\n",
    "        self.Data = [ [] for i in range(gesNum) ] \n",
    "        self.gesNum = gesNum\n",
    "        return\n",
    "\n",
    "    def __str__(self):\n",
    "        gesNum = len(self.Data)\n",
    "        \n",
    "        string = \"%d %s \\n\" % (self.subCount, 'subject' if self.subCount==1 else 'subjects')\n",
    "        string += \"%d gestures\\n\" % gesNum\n",
    "\n",
    "        winTotal = 0\n",
    "        for ges, num in zip(self.Data, range(gesNum)):\n",
    "            count = len(ges)\n",
    "            string += \"Gesture %d - %d windows\\n\" % (num, count)\n",
    "            winTotal += count\n",
    "        \n",
    "        string += \"%d windows total\\n\" % winTotal\n",
    "            \n",
    "        return string\n",
    "\n",
    "    def readDataBase(self, folder, subject, exercise):\n",
    "        subjects  = r'\\d+' if subject == 'all' else str(subject).replace(', ', '')\n",
    "        exercises = r'\\d' if exercise == 'all' else str(exercise).replace(', ', '')\n",
    "        match = r'\\AS{}_.*E{}.*\\.mat\\Z'.format(subjects, exercises)\n",
    "\n",
    "        for root, dirs, files in os.walk(folder):\n",
    "            for file in files:\n",
    "                if re.search(match, file):\n",
    "                    self.read(os.path.join(root, file))\n",
    "                    self.subCount += 1\n",
    "            \n",
    "    def read(self, file):\n",
    "        print('Reading:', file)\n",
    "        dataset = loadmat(file)\n",
    "        signal = dataset['emg']\n",
    "        labels = np.squeeze(dataset['restimulus']) # By default this returns list of lists, each with a single scalar.\n",
    "                                                   # So np.squeeze is used to turn it into a vector.\n",
    "        signal = self.preprocess(signal)\n",
    "\n",
    "        for start in range(0, len(signal) - self.winSize, self.step):\n",
    "            end = start + self.winSize\n",
    "            if labels[start] == labels[end-1]:\n",
    "                \n",
    "                self.Data[labels[start]].append(signal[start:end])\n",
    "                \n",
    "    def readMat(self, folder):\n",
    "        for i in range(self.gesNum):\n",
    "            file = 'motion' + str(i) + '.mat'\n",
    "            print('Reading:', file)\n",
    "            motion = loadmat(os.path.join(folder, file))['motion' + str(i)]\n",
    "            motion = motion[~np.all(motion == 0, axis=1)] # remove rows with all zero values\n",
    "            \n",
    "            step = 64\n",
    "            window = 512\n",
    "            \n",
    "            for start in range(0, len(motion) - window, step):\n",
    "                end = start + window\n",
    "                self.Data[i].append(motion[start:end])\n",
    "\n",
    "    def preprocess(self, signal):\n",
    "        # For each channel subtract the mean\n",
    "        mean = np.mean(signal)\n",
    "        for i in range(signal.shape[1]):\n",
    "#             mean = np.mean(signal[:,i])\n",
    "            signal[:,i] -= mean\n",
    "            \n",
    "        return signal\n",
    "\n",
    "    def prepareData(self, ratio):\n",
    "        TrainX = []\n",
    "        TrainY = []\n",
    "        ValidX = []\n",
    "        ValidY = []\n",
    "\n",
    "        for ges, num in zip(self.Data, range(self.gesNum)):\n",
    "            if not num == 0:\n",
    "#                     # Since there are a lot more rest gesture samples,\n",
    "#                     # only use as much as the most data\n",
    "#                     length = max(map(len, self.Data))\n",
    "#                 else:\n",
    "                length = len(ges)\n",
    "#                 length = min(map(len, self.Data))\n",
    "\n",
    "                middle = int(length * ratio)\n",
    "\n",
    "                TrainX.extend(ges[middle:length]) # |middle_____:\n",
    "                ValidX.extend(ges[:middle]) # :____ |middle\n",
    "\n",
    "                TrainY.extend([num] * (length - middle))\n",
    "                ValidY.extend([num] * middle)\n",
    "\n",
    "        return [TrainX, TrainY, ValidX, ValidY]\n",
    "    def crossVal(self, k):\n",
    "        bins = self.getBins(k)\n",
    "        for i in range(k):\n",
    "            ValidX, ValidY = bins[i]\n",
    "            TrainX = []\n",
    "            TrainY = []\n",
    "            \n",
    "            \n",
    "    \n",
    "    def getBins(self, k):\n",
    "        X = []\n",
    "        Y = [] \n",
    "        for ges, num in zip(self.Data, range(self.gesNum)):\n",
    "            X.extend(ges)\n",
    "            Y.extend([num] * len(ges))\n",
    "\n",
    "        XY = list(zip(X, Y))\n",
    "        np.random.shuffle(XY)\n",
    "        X, Y = zip(*XY)\n",
    "        binsX = np.array_split(np.array(X), k)\n",
    "        binsY = np.array_split(np.array(Y), k)\n",
    "        return zip(binsX, binsY)\n",
    "    "
   ]
  },
  {
   "cell_type": "code",
   "execution_count": 44,
   "metadata": {},
   "outputs": [
    {
     "name": "stdout",
     "output_type": "stream",
     "text": [
      "0 subjects \n",
      "18 gestures\n",
      "Gesture 0 - 0 windows\n",
      "Gesture 1 - 0 windows\n",
      "Gesture 2 - 0 windows\n",
      "Gesture 3 - 0 windows\n",
      "Gesture 4 - 0 windows\n",
      "Gesture 5 - 0 windows\n",
      "Gesture 6 - 0 windows\n",
      "Gesture 7 - 0 windows\n",
      "Gesture 8 - 0 windows\n",
      "Gesture 9 - 0 windows\n",
      "Gesture 10 - 0 windows\n",
      "Gesture 11 - 0 windows\n",
      "Gesture 12 - 0 windows\n",
      "Gesture 13 - 0 windows\n",
      "Gesture 14 - 0 windows\n",
      "Gesture 15 - 0 windows\n",
      "Gesture 16 - 0 windows\n",
      "Gesture 17 - 0 windows\n",
      "0 windows total\n",
      "\n"
     ]
    },
    {
     "ename": "ValueError",
     "evalue": "not enough values to unpack (expected 2, got 0)",
     "output_type": "error",
     "traceback": [
      "\u001b[1;31m---------------------------------------------------------------------------\u001b[0m",
      "\u001b[1;31mValueError\u001b[0m                                Traceback (most recent call last)",
      "\u001b[1;32m<ipython-input-44-7bb1c8e1652b>\u001b[0m in \u001b[0;36m<module>\u001b[1;34m\u001b[0m\n\u001b[0;32m      4\u001b[0m \u001b[0mprint\u001b[0m\u001b[1;33m(\u001b[0m\u001b[0mDB\u001b[0m\u001b[1;33m)\u001b[0m\u001b[1;33m\u001b[0m\u001b[1;33m\u001b[0m\u001b[0m\n\u001b[0;32m      5\u001b[0m \u001b[1;33m\u001b[0m\u001b[0m\n\u001b[1;32m----> 6\u001b[1;33m \u001b[0mbins\u001b[0m \u001b[1;33m=\u001b[0m \u001b[0mDB\u001b[0m\u001b[1;33m.\u001b[0m\u001b[0mcrossVal\u001b[0m\u001b[1;33m(\u001b[0m\u001b[1;36m9\u001b[0m\u001b[1;33m)\u001b[0m\u001b[1;33m\u001b[0m\u001b[1;33m\u001b[0m\u001b[0m\n\u001b[0m\u001b[0;32m      7\u001b[0m \u001b[1;32mfor\u001b[0m \u001b[0mb\u001b[0m \u001b[1;32min\u001b[0m \u001b[0mbins\u001b[0m\u001b[1;33m:\u001b[0m\u001b[1;33m\u001b[0m\u001b[1;33m\u001b[0m\u001b[0m\n\u001b[0;32m      8\u001b[0m     \u001b[0ma\u001b[0m\u001b[1;33m,\u001b[0m \u001b[0mc\u001b[0m \u001b[1;33m=\u001b[0m \u001b[0mb\u001b[0m\u001b[1;33m\u001b[0m\u001b[1;33m\u001b[0m\u001b[0m\n",
      "\u001b[1;32m<ipython-input-35-d5b2a0e6b886>\u001b[0m in \u001b[0;36mcrossVal\u001b[1;34m(self, k)\u001b[0m\n\u001b[0;32m    104\u001b[0m         \u001b[1;32mreturn\u001b[0m \u001b[1;33m[\u001b[0m\u001b[0mTrainX\u001b[0m\u001b[1;33m,\u001b[0m \u001b[0mTrainY\u001b[0m\u001b[1;33m,\u001b[0m \u001b[0mValidX\u001b[0m\u001b[1;33m,\u001b[0m \u001b[0mValidY\u001b[0m\u001b[1;33m]\u001b[0m\u001b[1;33m\u001b[0m\u001b[1;33m\u001b[0m\u001b[0m\n\u001b[0;32m    105\u001b[0m     \u001b[1;32mdef\u001b[0m \u001b[0mcrossVal\u001b[0m\u001b[1;33m(\u001b[0m\u001b[0mself\u001b[0m\u001b[1;33m,\u001b[0m \u001b[0mk\u001b[0m\u001b[1;33m)\u001b[0m\u001b[1;33m:\u001b[0m\u001b[1;33m\u001b[0m\u001b[1;33m\u001b[0m\u001b[0m\n\u001b[1;32m--> 106\u001b[1;33m         \u001b[0mbins\u001b[0m \u001b[1;33m=\u001b[0m \u001b[0mself\u001b[0m\u001b[1;33m.\u001b[0m\u001b[0mgetBins\u001b[0m\u001b[1;33m(\u001b[0m\u001b[0mk\u001b[0m\u001b[1;33m)\u001b[0m\u001b[1;33m\u001b[0m\u001b[1;33m\u001b[0m\u001b[0m\n\u001b[0m\u001b[0;32m    107\u001b[0m         \u001b[1;32mfor\u001b[0m \u001b[0mi\u001b[0m \u001b[1;32min\u001b[0m \u001b[0mrange\u001b[0m\u001b[1;33m(\u001b[0m\u001b[0mk\u001b[0m\u001b[1;33m)\u001b[0m\u001b[1;33m:\u001b[0m\u001b[1;33m\u001b[0m\u001b[1;33m\u001b[0m\u001b[0m\n\u001b[0;32m    108\u001b[0m             \u001b[0mValidX\u001b[0m\u001b[1;33m,\u001b[0m \u001b[0mValidY\u001b[0m \u001b[1;33m=\u001b[0m \u001b[0mbins\u001b[0m\u001b[1;33m[\u001b[0m\u001b[0mi\u001b[0m\u001b[1;33m]\u001b[0m\u001b[1;33m\u001b[0m\u001b[1;33m\u001b[0m\u001b[0m\n",
      "\u001b[1;32m<ipython-input-35-d5b2a0e6b886>\u001b[0m in \u001b[0;36mgetBins\u001b[1;34m(self, k)\u001b[0m\n\u001b[0;32m    121\u001b[0m         \u001b[0mXY\u001b[0m \u001b[1;33m=\u001b[0m \u001b[0mlist\u001b[0m\u001b[1;33m(\u001b[0m\u001b[0mzip\u001b[0m\u001b[1;33m(\u001b[0m\u001b[0mX\u001b[0m\u001b[1;33m,\u001b[0m \u001b[0mY\u001b[0m\u001b[1;33m)\u001b[0m\u001b[1;33m)\u001b[0m\u001b[1;33m\u001b[0m\u001b[1;33m\u001b[0m\u001b[0m\n\u001b[0;32m    122\u001b[0m         \u001b[0mnp\u001b[0m\u001b[1;33m.\u001b[0m\u001b[0mrandom\u001b[0m\u001b[1;33m.\u001b[0m\u001b[0mshuffle\u001b[0m\u001b[1;33m(\u001b[0m\u001b[0mXY\u001b[0m\u001b[1;33m)\u001b[0m\u001b[1;33m\u001b[0m\u001b[1;33m\u001b[0m\u001b[0m\n\u001b[1;32m--> 123\u001b[1;33m         \u001b[0mX\u001b[0m\u001b[1;33m,\u001b[0m \u001b[0mY\u001b[0m \u001b[1;33m=\u001b[0m \u001b[0mzip\u001b[0m\u001b[1;33m(\u001b[0m\u001b[1;33m*\u001b[0m\u001b[0mXY\u001b[0m\u001b[1;33m)\u001b[0m\u001b[1;33m\u001b[0m\u001b[1;33m\u001b[0m\u001b[0m\n\u001b[0m\u001b[0;32m    124\u001b[0m         \u001b[0mbinsX\u001b[0m \u001b[1;33m=\u001b[0m \u001b[0mnp\u001b[0m\u001b[1;33m.\u001b[0m\u001b[0marray_split\u001b[0m\u001b[1;33m(\u001b[0m\u001b[0mnp\u001b[0m\u001b[1;33m.\u001b[0m\u001b[0marray\u001b[0m\u001b[1;33m(\u001b[0m\u001b[0mX\u001b[0m\u001b[1;33m)\u001b[0m\u001b[1;33m,\u001b[0m \u001b[0mk\u001b[0m\u001b[1;33m)\u001b[0m\u001b[1;33m\u001b[0m\u001b[1;33m\u001b[0m\u001b[0m\n\u001b[0;32m    125\u001b[0m         \u001b[0mbinsY\u001b[0m \u001b[1;33m=\u001b[0m \u001b[0mnp\u001b[0m\u001b[1;33m.\u001b[0m\u001b[0marray_split\u001b[0m\u001b[1;33m(\u001b[0m\u001b[0mnp\u001b[0m\u001b[1;33m.\u001b[0m\u001b[0marray\u001b[0m\u001b[1;33m(\u001b[0m\u001b[0mY\u001b[0m\u001b[1;33m)\u001b[0m\u001b[1;33m,\u001b[0m \u001b[0mk\u001b[0m\u001b[1;33m)\u001b[0m\u001b[1;33m\u001b[0m\u001b[1;33m\u001b[0m\u001b[0m\n",
      "\u001b[1;31mValueError\u001b[0m: not enough values to unpack (expected 2, got 0)"
     ]
    }
   ],
   "source": [
    "DB = NinaproDB(13)\n",
    "DB.readDataBase(r'C:\\Users\\Mark\\Downloads\\Database 1', '1\\d', '1')\n",
    "\n",
    "print(DB)\n",
    "\n",
    "bins = DB.crossVal(9)\n",
    "for b in bins:\n",
    "    a, c = b\n",
    "    print(a.shape, c.shape)"
   ]
  },
  {
   "cell_type": "code",
   "execution_count": 73,
   "metadata": {},
   "outputs": [
    {
     "name": "stdout",
     "output_type": "stream",
     "text": [
      "Reading: motion0.mat\n",
      "Reading: motion1.mat\n",
      "Reading: motion2.mat\n",
      "Reading: motion3.mat\n",
      "Reading: motion4.mat\n",
      "Reading: motion5.mat\n",
      "Reading: motion6.mat\n",
      "Reading: motion7.mat\n",
      "Reading: motion8.mat\n",
      "0 subjects \n",
      "9 gestures\n",
      "Gesture 0 - 458 windows\n",
      "Gesture 1 - 461 windows\n",
      "Gesture 2 - 461 windows\n",
      "Gesture 3 - 461 windows\n",
      "Gesture 4 - 461 windows\n",
      "Gesture 5 - 461 windows\n",
      "Gesture 6 - 461 windows\n",
      "Gesture 7 - 461 windows\n",
      "Gesture 8 - 461 windows\n",
      "4146 windows total\n",
      "\n",
      "[2584, 2584, 1104, 1104]\n",
      "(512, 8, 1)\n",
      "{1, 2, 3, 4, 5, 6, 7, 8}\n"
     ]
    }
   ],
   "source": [
    "## IMPORT EXAMPLE DATA ##\n",
    "\n",
    "DB = NinaproDB(9)\n",
    "DB.readMat(r'C:\\Users\\Mark\\Desktop\\Pattern Recognition Algorithms_matlab')\n",
    "print(DB)\n",
    "\n",
    "[TrainX, TrainY, ValidX, ValidY] = DB.prepareData(0.3)\n",
    "print(list(map(len, [TrainX, TrainY, ValidX, ValidY])))\n",
    "\n",
    "# Add a colour channel dimension for conv net input\n",
    "TrainX = [np.expand_dims(x, axis=2) for x in TrainX]\n",
    "TrainX = np.stack(TrainX, axis=0 )\n",
    "\n",
    "ValidX = [np.expand_dims(x, axis=2) for x in ValidX]\n",
    "ValidX = np.stack(ValidX, axis=0 )\n",
    "\n",
    "print(TrainX[0].shape)\n",
    "print(set(ValidY))"
   ]
  },
  {
   "cell_type": "code",
   "execution_count": 52,
   "metadata": {
    "scrolled": true
   },
   "outputs": [
    {
     "name": "stdout",
     "output_type": "stream",
     "text": [
      "Reading: C:\\Users\\Mark\\Downloads\\Database 2\\S7_E1_A1.mat\n",
      "1 subject \n",
      "18 gestures\n",
      "Gesture 0 - 3767 windows\n",
      "Gesture 1 - 566 windows\n",
      "Gesture 2 - 562 windows\n",
      "Gesture 3 - 562 windows\n",
      "Gesture 4 - 561 windows\n",
      "Gesture 5 - 550 windows\n",
      "Gesture 6 - 561 windows\n",
      "Gesture 7 - 554 windows\n",
      "Gesture 8 - 558 windows\n",
      "Gesture 9 - 460 windows\n",
      "Gesture 10 - 384 windows\n",
      "Gesture 11 - 480 windows\n",
      "Gesture 12 - 381 windows\n",
      "Gesture 13 - 494 windows\n",
      "Gesture 14 - 553 windows\n",
      "Gesture 15 - 554 windows\n",
      "Gesture 16 - 424 windows\n",
      "Gesture 17 - 436 windows\n",
      "12407 windows total\n",
      "\n",
      "[6054, 6054, 2586, 2586]\n",
      "(1024, 12, 1)\n",
      "{1, 2, 3, 4, 5, 6, 7, 8, 9, 10, 11, 12, 13, 14, 15, 16, 17}\n"
     ]
    }
   ],
   "source": [
    "## IMPORT DATA ##\n",
    "\n",
    "\n",
    "DB = NinaproDB(18)\n",
    "DB.readDataBase(r'C:\\Users\\Mark\\Downloads\\Database 2', '7', '1')\n",
    "\n",
    "print(DB)\n",
    "# signal = []\n",
    "# for win in DB.Data[1]:\n",
    "#     signal.extend(list(win[:,3]))\n",
    "    \n",
    "# plt.plot(signal)\n",
    "\n",
    "[TrainX, TrainY, ValidX, ValidY] = DB.prepareData(0.3)\n",
    "print(list(map(len, [TrainX, TrainY, ValidX, ValidY])))\n",
    "\n",
    "# results, clf = gumpy.classify('SVM', X_train, Y_train, X_test, Y_test)\n",
    "\n",
    "# print(results)\n",
    "\n",
    "# Add a colour channel dimension for conv net input\n",
    "TrainX = [np.expand_dims(x, axis=2) for x in TrainX]\n",
    "TrainX = np.stack(TrainX, axis=0 )\n",
    "\n",
    "ValidX = [np.expand_dims(x, axis=2) for x in ValidX]\n",
    "ValidX = np.stack(ValidX, axis=0 )\n",
    "\n",
    "\n",
    "# c = list(zip(TrainX, TrainY))\n",
    "# np.random.shuffle(c)\n",
    "# TrainX, TrainY = zip(*c)\n",
    "\n",
    "print(TrainX[0].shape)\n",
    "print(set(ValidY))"
   ]
  },
  {
   "cell_type": "code",
   "execution_count": 48,
   "metadata": {},
   "outputs": [
    {
     "data": {
      "text/plain": [
       "0.2995964844397767"
      ]
     },
     "execution_count": 48,
     "metadata": {},
     "output_type": "execute_result"
    }
   ],
   "source": [
    "\n",
    "5420/(5420+12671)"
   ]
  },
  {
   "cell_type": "code",
   "execution_count": 693,
   "metadata": {},
   "outputs": [
    {
     "data": {
      "text/plain": [
       "0.3712871287128713"
      ]
     },
     "execution_count": 693,
     "metadata": {},
     "output_type": "execute_result"
    }
   ],
   "source": [
    "750/(1270+750)"
   ]
  },
  {
   "cell_type": "code",
   "execution_count": 173,
   "metadata": {},
   "outputs": [
    {
     "name": "stdout",
     "output_type": "stream",
     "text": [
      "(25, 10)\n",
      "8\n"
     ]
    },
    {
     "data": {
      "text/plain": [
       "[<matplotlib.lines.Line2D at 0x27c023dffc8>]"
      ]
     },
     "execution_count": 173,
     "metadata": {},
     "output_type": "execute_result"
    },
    {
     "data": {
      "image/png": "[encoded data removed]",
      "text/plain": [
       "<Figure size 432x288 with 1 Axes>"
      ]
     },
     "metadata": {
      "needs_background": "light"
     },
     "output_type": "display_data"
    }
   ],
   "source": [
    "win = np.squeeze(TrainX[0])\n",
    "print(win.shape)\n",
    "\n",
    "a = [1, 2, 1, 0, 1, -3, -4, 7, 8, 9, 10, -2, 1, -3, 5, 6, 7, 10]\n",
    "print((np.diff(np.sign(np.diff(a))) != 0).sum())\n",
    "plt.plot(a)"
   ]
  },
  {
   "cell_type": "code",
   "execution_count": 265,
   "metadata": {},
   "outputs": [
    {
     "data": {
      "text/plain": [
       "5.527707983925667"
      ]
     },
     "execution_count": 265,
     "metadata": {},
     "output_type": "execute_result"
    }
   ],
   "source": [
    "a = np.array([1, 2, 1, 0, 1, -3, -4, 7, 8, 9, 10, -2, 1, -3, 5, 6, 7, 10])\n",
    "b = rms = np.sqrt(np.mean(np.square(a)))\n",
    "\n",
    "b"
   ]
  },
  {
   "cell_type": "code",
   "execution_count": 74,
   "metadata": {},
   "outputs": [
    {
     "name": "stdout",
     "output_type": "stream",
     "text": [
      "(2584, 40)\n",
      "(1104, 40)\n"
     ]
    }
   ],
   "source": [
    "def extractFeatures(windows):\n",
    "    windows = np.squeeze(windows)\n",
    "    N, L, C = windows.shape # Total number of: windows, time samples, channels\n",
    "    \n",
    "    bins = 9\n",
    "    hist = np.zeros((N,C*bins))\n",
    "    \n",
    "    mav = np.zeros((N,C))\n",
    "    rms = np.zeros((N,C))\n",
    "    std = np.zeros((N,C))\n",
    "    zc  = np.zeros((N,C))\n",
    "    wl  = np.zeros((N,C))\n",
    "    ssc = np.zeros((N,C))\n",
    "    \n",
    "    for n in range(N):\n",
    "        for c in range(C):\n",
    "            channel = windows[n,:,c]\n",
    "            \n",
    "#             hist[n,c*bins:c*bins+bins] = np.histogram(channel, bins=bins)[0]\n",
    "            \n",
    "            mav[n,c] = np.mean(np.abs(channel))\n",
    "#             rms[n,c] = np.sqrt(np.mean(np.square(a)))\n",
    "            std[n,c] = np.std(channel)\n",
    "            zc[n,c]  = (np.diff(np.sign(channel)) != 0).sum()\n",
    "            \n",
    "            diffs = np.diff(channel)\n",
    "            wl[n,c]  = np.abs(diffs).sum()\n",
    "            ssc[n,c] = (np.diff(np.sign(diffs)) != 0).sum()\n",
    "    \n",
    "    return np.hstack((mav, std, zc, wl, ssc))\n",
    "            \n",
    "TrainF = extractFeatures(TrainX)\n",
    "ValidF = extractFeatures(ValidX)\n",
    "\n",
    "print(TrainF.shape)\n",
    "print(ValidF.shape)"
   ]
  },
  {
   "cell_type": "code",
   "execution_count": 465,
   "metadata": {},
   "outputs": [
    {
     "data": {
      "text/plain": [
       "array([1.73328000e-01, 1.21576000e-01, 8.12592000e-01, 4.89240000e-02,\n",
       "       4.85200000e-03, 2.50000000e-03, 5.96720000e-02, 5.60444000e-01,\n",
       "       1.65432000e-01, 2.48240000e-01, 1.51074954e-02, 1.42720785e-02,\n",
       "       8.27110194e-02, 2.07135565e-02, 4.74662996e-03, 4.89897949e-04,\n",
       "       1.65767915e-02, 5.74390604e-02, 2.44070108e-02, 1.28496537e-02,\n",
       "       0.00000000e+00, 0.00000000e+00, 0.00000000e+00, 0.00000000e+00,\n",
       "       0.00000000e+00, 0.00000000e+00, 0.00000000e+00, 0.00000000e+00,\n",
       "       0.00000000e+00, 0.00000000e+00, 1.73200000e-01, 2.17300000e-01,\n",
       "       1.09850000e+00, 1.41400000e-01, 2.95000000e-02, 5.00000000e-03,\n",
       "       1.58700000e-01, 6.93200000e-01, 2.51600000e-01, 1.21800000e-01,\n",
       "       1.10000000e+01, 1.00000000e+01, 1.00000000e+01, 6.00000000e+00,\n",
       "       6.00000000e+00, 2.00000000e+00, 6.00000000e+00, 5.00000000e+00,\n",
       "       1.10000000e+01, 1.30000000e+01])"
      ]
     },
     "execution_count": 465,
     "metadata": {},
     "output_type": "execute_result"
    }
   ],
   "source": [
    "TrainF[0]"
   ]
  },
  {
   "cell_type": "code",
   "execution_count": 75,
   "metadata": {},
   "outputs": [
    {
     "name": "stdout",
     "output_type": "stream",
     "text": [
      "99.36594202898551 %  accuracy\n"
     ]
    }
   ],
   "source": [
    "from sklearn.discriminant_analysis import LinearDiscriminantAnalysis\n",
    "from sklearn.discriminant_analysis import QuadraticDiscriminantAnalysis\n",
    "from sklearn.svm import SVC\n",
    "from sklearn.ensemble import RandomForestClassifier\n",
    "clf = LinearDiscriminantAnalysis()\n",
    "# clf = QuadraticDiscriminantAnalysis()\n",
    "# clf = SVC()\n",
    "# clf = RandomForestClassifier()\n",
    "\n",
    "clf.fit(TrainF, TrainY)\n",
    "\n",
    "predictions = clf.predict(ValidF)\n",
    "\n",
    "correct = predictions == ValidY\n",
    "accuracy = np.count_nonzero(correct) / len(correct)\n",
    "print(accuracy * 100, '%  accuracy')"
   ]
  },
  {
   "cell_type": "code",
   "execution_count": 30,
   "metadata": {},
   "outputs": [
    {
     "name": "stdout",
     "output_type": "stream",
     "text": [
      "99.36594202898551 %  accuracy\n"
     ]
    }
   ],
   "source": [
    "# predictions = clf.predict(ValidF)\n",
    "\n",
    "# correct = predictions == ValidY\n",
    "accuracy = np.count_nonzero(correct) / len(correct)\n",
    "print(accuracy * 100, '%  accuracy')"
   ]
  },
  {
   "cell_type": "code",
   "execution_count": 64,
   "metadata": {},
   "outputs": [
    {
     "name": "stdout",
     "output_type": "stream",
     "text": [
      "[[0.92944785 0.07055215 0.         0.         0.         0.\n",
      "  0.         0.        ]\n",
      " [0.         0.96319018 0.03067485 0.00306748 0.         0.00306748\n",
      "  0.         0.        ]\n",
      " [0.         0.00613497 0.99386503 0.         0.         0.\n",
      "  0.         0.        ]\n",
      " [0.         0.         0.01840491 0.98159509 0.         0.\n",
      "  0.         0.        ]\n",
      " [0.         0.         0.04294479 0.         0.95398773 0.\n",
      "  0.         0.00306748]\n",
      " [0.         0.         0.         0.         0.         1.\n",
      "  0.         0.        ]\n",
      " [0.         0.         0.         0.         0.         0.\n",
      "  0.98773006 0.01226994]\n",
      " [0.         0.         0.00920245 0.00306748 0.14723926 0.\n",
      "  0.         0.8404908 ]]\n"
     ]
    }
   ],
   "source": [
    "disp = plot_confusion_matrix(clf, TrainF, TrainY,\n",
    "#                                  display_labels=class_names,\n",
    "#                                  cmap=plt.cm.Blues,\n",
    "                                 normalize='true')\n",
    "# %matplotlib qt \n",
    "print(disp.confusion_matrix)\n",
    "\n",
    "plt.show()"
   ]
  },
  {
   "cell_type": "code",
   "execution_count": 187,
   "metadata": {},
   "outputs": [
    {
     "name": "stdout",
     "output_type": "stream",
     "text": [
      "2\n"
     ]
    },
    {
     "data": {
      "text/plain": [
       "1"
      ]
     },
     "execution_count": 187,
     "metadata": {},
     "output_type": "execute_result"
    }
   ],
   "source": [
    "n = 5\n",
    "print(ValidY[n])\n",
    "predictions[n]"
   ]
  },
  {
   "cell_type": "code",
   "execution_count": 16,
   "metadata": {},
   "outputs": [
    {
     "name": "stdout",
     "output_type": "stream",
     "text": [
      "[34 41  6 56 17 16  4  5  5  7  9  3  8  8  8  1  0  1  8 13]\n"
     ]
    }
   ],
   "source": [
    "TrainX[0].shape\n",
    "hist, x = np.histogram(TrainX[0], 20)\n",
    "print(hist)"
   ]
  },
  {
   "cell_type": "code",
   "execution_count": 89,
   "metadata": {},
   "outputs": [
    {
     "name": "stdout",
     "output_type": "stream",
     "text": [
      "At least the script starts...\n",
      "<keras.engine.sequential.Sequential object at 0x000002080F60A408>\n"
     ]
    }
   ],
   "source": [
    "print(\"At least the script starts...\")\n",
    "import numpy as np\n",
    "import keras\n",
    "from keras.models import Sequential\n",
    "from keras.layers import Conv2D, MaxPooling2D, AveragePooling2D, Dense, Flatten, BatchNormalization\n",
    "from keras.utils import to_categorical\n",
    "from keras.regularizers import l1, l2\n",
    "from keras import optimizers\n",
    "\n",
    "from scipy.io import loadmat\n",
    "import os\n",
    "import re\n",
    "\n",
    "import matplotlib.pyplot as plt\n",
    "\n",
    "from datetime import datetime\n",
    "## CREATE NETWORK ##\n",
    "num_filters = 8\n",
    "filter_size = 3\n",
    "pool_size = 2\n",
    "num_classes = 9\n",
    "input_shape = TrainX[0].shape\n",
    "\n",
    "model = Sequential()\n",
    "# model.add(Conv2D(32, kernel_size=(5, 5), strides=1,\n",
    "#                  activation='relu',\n",
    "#                  input_shape=(512,8,1), data_format=\"channels_last\"))\n",
    "# model.add(MaxPooling2D(pool_size=(2, 2), strides=2))\n",
    "\n",
    "# model.add(Conv2D(64, (5, 5), activation='relu'))\n",
    "# model.add(MaxPooling2D(pool_size=(2, 2)))\n",
    "\n",
    "# model.add(Flatten())\n",
    "# model.add(Dense(1000, activation='relu'))\n",
    "\n",
    "# model.add(Dense(num_classes, activation='softmax'))\n",
    "\n",
    "## PAPER 2 ##\n",
    "decay = l2(0.0005)\n",
    "model.add(Conv2D(32, kernel_size=(1,input_shape[1]), activation='relu', input_shape=input_shape, padding='same', kernel_regularizer=decay))\n",
    "\n",
    "model.add(Conv2D(32, kernel_size=3, activation='relu', padding='same', kernel_regularizer=decay))\n",
    "model.add(AveragePooling2D(pool_size=(2,2)))\n",
    "\n",
    "model.add(Conv2D(64, kernel_size=5, activation='relu', padding='same', kernel_regularizer=decay))\n",
    "model.add(AveragePooling2D(pool_size=(2,2)))\n",
    "\n",
    "model.add(Conv2D(64, kernel_size=(5,1), activation='relu', padding='same', kernel_regularizer=decay))\n",
    "model.add(Conv2D(64, kernel_size=1, activation='relu', padding='same', kernel_regularizer=decay))\n",
    "model.add(Flatten())\n",
    "model.add(Dense(num_classes, activation='softmax', kernel_regularizer=decay))\n",
    "\n",
    "## PAPER 3 ##\n",
    "# model.add(Conv2D(32, kernel_size=5, activation='relu', input_shape=input_shape, padding='same'))\n",
    "# # model.add(BatchNormalization())\n",
    "# model.add(Conv2D(32, kernel_size=3, activation='relu', padding='same'))\n",
    "# # model.add(Dropout(.8))\n",
    "# # model.add(BatchNormalization())\n",
    "# model.add(MaxPooling2D(pool_size=(2, 2), strides=2))\n",
    "\n",
    "# # model.add(Conv2D(64, kernel_size=3, activation='relu', padding='same'))\n",
    "# # model.add(MaxPooling2D(pool_size=(2, 2), strides=2))\n",
    "\n",
    "# model.add(Flatten())\n",
    "# # model.add(Dropout(.5))\n",
    "# model.add(Dense(num_classes, activation='softmax'))\n",
    "\n",
    "print(model)\n",
    "\n",
    "#compile model using accuracy to measure model performance\n",
    "optimizer = optimizers.SGD(learning_rate=0.001, momentum=0.9)\n",
    "model.compile(optimizer=optimizer, loss='categorical_crossentropy', metrics=['accuracy'])"
   ]
  },
  {
   "cell_type": "code",
   "execution_count": 91,
   "metadata": {},
   "outputs": [
    {
     "name": "stdout",
     "output_type": "stream",
     "text": [
      "Train on 2584 samples, validate on 1104 samples\n",
      "Epoch 1/5\n",
      "2584/2584 [==============================] - 16s 6ms/step - loss: 2.2066 - accuracy: 0.1130 - val_loss: 2.2003 - val_accuracy: 0.1250\n",
      "Epoch 2/5\n",
      "2584/2584 [==============================] - 16s 6ms/step - loss: 2.2001 - accuracy: 0.1130 - val_loss: 2.1963 - val_accuracy: 0.1250\n",
      "Epoch 3/5\n",
      "2584/2584 [==============================] - 16s 6ms/step - loss: 2.1983 - accuracy: 0.1165 - val_loss: 2.1960 - val_accuracy: 0.1250\n",
      "Epoch 4/5\n",
      "2584/2584 [==============================] - 16s 6ms/step - loss: 2.1971 - accuracy: 0.1184 - val_loss: 2.1932 - val_accuracy: 0.1250\n",
      "Epoch 5/5\n",
      "2584/2584 [==============================] - 16s 6ms/step - loss: 2.1959 - accuracy: 0.1200 - val_loss: 2.1930 - val_accuracy: 0.1250\n",
      "Predictions:\t [1 1 1 1 1 1 1 1 1 1 1 1 1 1 1 1 1 1 1 1]\n",
      "Answers:\t\t [1, 1, 1, 1, 1, 1, 1, 1, 1, 1, 1, 1, 1, 1, 1, 1, 1, 1, 1, 1]\n",
      "Unique (pred):\t\t {1}\n",
      "Unique (correct):\t {1}\n"
     ]
    }
   ],
   "source": [
    "## TRAIN THE MODEL.##\n",
    "model.fit(\n",
    "    TrainX,\n",
    "    to_categorical(TrainY),\n",
    "    epochs=5,\n",
    "    batch_size=64,\n",
    "    validation_data=(ValidX, to_categorical(ValidY)),\n",
    "    shuffle=True\n",
    ")\n",
    "\n",
    "\n",
    "# Save/Load weights\n",
    "# datetime object containing current date and time\n",
    "now = datetime.now()\n",
    "dt_string = now.strftime(\"Trained Wieghts/%d_%m_%Y_%H_%M\")\n",
    "model.save_weights('%s.h5' % dt_string)\n",
    "\n",
    "\n",
    "# Predict on the first 5 test images.\n",
    "predictions = np.argmax(model.predict(ValidX), axis=1)\n",
    "\n",
    "# Print our model's predictions.\n",
    "print('Predictions:\\t', predictions[:20]) # [7, 2, 1, 0, 4]\n",
    "\n",
    "# Check our predictions against the ground truths.\n",
    "print('Answers:\\t\\t', ValidY[:20]) # [7, 2, 1, 0, 4]\n",
    "\n",
    "correct = predictions[ValidY==predictions]\n",
    "\n",
    "print('Unique (pred):\\t\\t', set(predictions))\n",
    "print('Unique (correct):\\t', set(correct))\n",
    "\n",
    "# plt.subplot(122)\n",
    "# plt.hist(predictions, bins=11)  # arguments are passed to np.histogram\n",
    "# print(np.histogram(predictions, bins=11))\n",
    "# plt.title('Predictions')\n",
    "\n",
    "# plt.subplot(121)\n",
    "# plt.hist(correct, bins=11)  # arguments are passed to np.histogram\n",
    "# plt.title('Correct')\n",
    "# plt.show()"
   ]
  },
  {
   "cell_type": "code",
   "execution_count": 68,
   "metadata": {},
   "outputs": [
    {
     "data": {
      "text/plain": [
       "0.26867693823621625"
      ]
     },
     "execution_count": 68,
     "metadata": {},
     "output_type": "execute_result"
    }
   ],
   "source": [
    " 23995/(23995+65313)"
   ]
  }
 ],
 "metadata": {
  "kernelspec": {
   "display_name": "Python 3",
   "language": "python",
   "name": "python3"
  },
  "language_info": {
   "codemirror_mode": {
    "name": "ipython",
    "version": 3
   },
   "file_extension": ".py",
   "mimetype": "text/x-python",
   "name": "python",
   "nbconvert_exporter": "python",
   "pygments_lexer": "ipython3",
   "version": "3.7.6"
  }
 },
 "nbformat": 4,
 "nbformat_minor": 4
}
