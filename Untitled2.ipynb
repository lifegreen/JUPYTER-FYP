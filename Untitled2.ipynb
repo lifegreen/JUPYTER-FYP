{
 "cells": [
  {
   "cell_type": "code",
   "execution_count": 2,
   "metadata": {},
   "outputs": [
    {
     "name": "stderr",
     "output_type": "stream",
     "text": [
      "Using TensorFlow backend.\n",
      "C:\\Users\\Mark\\anaconda3\\lib\\site-packages\\tensorflow\\python\\framework\\dtypes.py:516: FutureWarning: Passing (type, 1) or '1type' as a synonym of type is deprecated; in a future version of numpy, it will be understood as (type, (1,)) / '(1,)type'.\n",
      "  _np_qint8 = np.dtype([(\"qint8\", np.int8, 1)])\n",
      "C:\\Users\\Mark\\anaconda3\\lib\\site-packages\\tensorflow\\python\\framework\\dtypes.py:517: FutureWarning: Passing (type, 1) or '1type' as a synonym of type is deprecated; in a future version of numpy, it will be understood as (type, (1,)) / '(1,)type'.\n",
      "  _np_quint8 = np.dtype([(\"quint8\", np.uint8, 1)])\n",
      "C:\\Users\\Mark\\anaconda3\\lib\\site-packages\\tensorflow\\python\\framework\\dtypes.py:518: FutureWarning: Passing (type, 1) or '1type' as a synonym of type is deprecated; in a future version of numpy, it will be understood as (type, (1,)) / '(1,)type'.\n",
      "  _np_qint16 = np.dtype([(\"qint16\", np.int16, 1)])\n",
      "C:\\Users\\Mark\\anaconda3\\lib\\site-packages\\tensorflow\\python\\framework\\dtypes.py:519: FutureWarning: Passing (type, 1) or '1type' as a synonym of type is deprecated; in a future version of numpy, it will be understood as (type, (1,)) / '(1,)type'.\n",
      "  _np_quint16 = np.dtype([(\"quint16\", np.uint16, 1)])\n",
      "C:\\Users\\Mark\\anaconda3\\lib\\site-packages\\tensorflow\\python\\framework\\dtypes.py:520: FutureWarning: Passing (type, 1) or '1type' as a synonym of type is deprecated; in a future version of numpy, it will be understood as (type, (1,)) / '(1,)type'.\n",
      "  _np_qint32 = np.dtype([(\"qint32\", np.int32, 1)])\n",
      "C:\\Users\\Mark\\anaconda3\\lib\\site-packages\\tensorflow\\python\\framework\\dtypes.py:525: FutureWarning: Passing (type, 1) or '1type' as a synonym of type is deprecated; in a future version of numpy, it will be understood as (type, (1,)) / '(1,)type'.\n",
      "  np_resource = np.dtype([(\"resource\", np.ubyte, 1)])\n",
      "C:\\Users\\Mark\\anaconda3\\lib\\site-packages\\tensorboard\\compat\\tensorflow_stub\\dtypes.py:541: FutureWarning: Passing (type, 1) or '1type' as a synonym of type is deprecated; in a future version of numpy, it will be understood as (type, (1,)) / '(1,)type'.\n",
      "  _np_qint8 = np.dtype([(\"qint8\", np.int8, 1)])\n",
      "C:\\Users\\Mark\\anaconda3\\lib\\site-packages\\tensorboard\\compat\\tensorflow_stub\\dtypes.py:542: FutureWarning: Passing (type, 1) or '1type' as a synonym of type is deprecated; in a future version of numpy, it will be understood as (type, (1,)) / '(1,)type'.\n",
      "  _np_quint8 = np.dtype([(\"quint8\", np.uint8, 1)])\n",
      "C:\\Users\\Mark\\anaconda3\\lib\\site-packages\\tensorboard\\compat\\tensorflow_stub\\dtypes.py:543: FutureWarning: Passing (type, 1) or '1type' as a synonym of type is deprecated; in a future version of numpy, it will be understood as (type, (1,)) / '(1,)type'.\n",
      "  _np_qint16 = np.dtype([(\"qint16\", np.int16, 1)])\n",
      "C:\\Users\\Mark\\anaconda3\\lib\\site-packages\\tensorboard\\compat\\tensorflow_stub\\dtypes.py:544: FutureWarning: Passing (type, 1) or '1type' as a synonym of type is deprecated; in a future version of numpy, it will be understood as (type, (1,)) / '(1,)type'.\n",
      "  _np_quint16 = np.dtype([(\"quint16\", np.uint16, 1)])\n",
      "C:\\Users\\Mark\\anaconda3\\lib\\site-packages\\tensorboard\\compat\\tensorflow_stub\\dtypes.py:545: FutureWarning: Passing (type, 1) or '1type' as a synonym of type is deprecated; in a future version of numpy, it will be understood as (type, (1,)) / '(1,)type'.\n",
      "  _np_qint32 = np.dtype([(\"qint32\", np.int32, 1)])\n",
      "C:\\Users\\Mark\\anaconda3\\lib\\site-packages\\tensorboard\\compat\\tensorflow_stub\\dtypes.py:550: FutureWarning: Passing (type, 1) or '1type' as a synonym of type is deprecated; in a future version of numpy, it will be understood as (type, (1,)) / '(1,)type'.\n",
      "  np_resource = np.dtype([(\"resource\", np.ubyte, 1)])\n"
     ]
    }
   ],
   "source": [
    "import os\n",
    "import re\n",
    "import numpy as np\n",
    "import pandas as pd\n",
    "import matplotlib.pyplot as plt\n",
    "\n",
    "from scipy.io import loadmat\n",
    "from scipy.signal import filtfilt, butter\n",
    "\n",
    "from datetime import datetime\n",
    "\n",
    "from keras.models import Sequential\n",
    "from keras.layers import Conv2D, MaxPooling2D, AveragePooling2D, Dense, Flatten, BatchNormalization, Dropout\n",
    "from keras.utils import to_categorical\n",
    "from keras import optimizers\n",
    "from keras.regularizers import l1, l2\n",
    "\n",
    "from sklearn.model_selection import train_test_split\n",
    "from sklearn.metrics import confusion_matrix\n",
    "from sklearn.preprocessing import normalize \n",
    "\n",
    "%matplotlib qt "
   ]
  },
  {
   "cell_type": "code",
   "execution_count": 241,
   "metadata": {},
   "outputs": [
    {
     "data": {
      "text/plain": [
       "0    1\n",
       "1    2\n",
       "3    1\n",
       "4    2\n",
       "Name: sub, dtype: int64"
      ]
     },
     "execution_count": 241,
     "metadata": {},
     "output_type": "execute_result"
    }
   ],
   "source": [
    "df = pd.DataFrame(columns=['sub', 'exe', 'ges', 'rep', 'win'], dtype=int)\n",
    "# df = pd.DataFrame({'sub':int(), 'exe':int(), 'ges':int(), 'rep':int()})\n",
    "df = df.append({'sub': 1, 'exe': 1, 'ges': 0, 'rep': 0, 'win': TrainX[0]}, ignore_index=True)\n",
    "df = df.append({'sub': 2, 'exe': 1, 'ges': 0, 'rep': 0, 'win': TrainX[1]}, ignore_index=True)\n",
    "df = df.append({'sub': 3, 'exe': 1, 'ges': 0, 'rep': 0, 'win': TrainX[2]}, ignore_index=True)\n",
    "df = df.append({'sub': 1, 'exe': 1, 'ges': 1, 'rep': 0, 'win': TrainX[3]}, ignore_index=True)\n",
    "df = df.append({'sub': 2, 'exe': 1, 'ges': 1, 'rep': 0, 'win': TrainX[4]}, ignore_index=True)\n",
    "df = df.append({'sub': 3, 'exe': 1, 'ges': 1, 'rep': 0, 'win': TrainX[4]}, ignore_index=True)\n",
    "# df[(df['sub']==1) & (df['ges']==1)]\n",
    "# len(set(df['sub']))\n",
    "# len(set(df['ges']))\n",
    "# len(df)\n",
    "# len(set(df['rep']))\n",
    "con = df['sub']==1\n",
    "con |= df['sub']==2\n",
    "df['sub'][con]"
   ]
  },
  {
   "cell_type": "code",
   "execution_count": 182,
   "metadata": {},
   "outputs": [
    {
     "data": {
      "text/plain": [
       "1"
      ]
     },
     "execution_count": 182,
     "metadata": {},
     "output_type": "execute_result"
    }
   ],
   "source": [
    "dataset = loadmat(r'C:\\Users\\Mark\\Downloads\\Datbase 1\\S1_A1_E1.mat')\n",
    "dataset['subject'].item()"
   ]
  },
  {
   "cell_type": "code",
   "execution_count": 5,
   "metadata": {},
   "outputs": [],
   "source": [
    "class NinaproDB:\n",
    "    winSize = 256\n",
    "    step = 64\n",
    "    subCount = 0\n",
    "\n",
    "    def __init__(self):\n",
    "        self.Data = pd.DataFrame(columns=['sub', 'exe', 'ges', 'rep', 'win'], dtype=int)\n",
    "\n",
    "    def __repr__(self):        \n",
    "        subCount = len(self.subjects)\n",
    "        exeCount = len(self.exercies)\n",
    "        gesCount = len(self.gestures)\n",
    "        winCount = len(self.Data)\n",
    "        \n",
    "        string = \"%d %s \\n\" % (subCount, 'subject' if subCount==1 else 'subjects')\n",
    "        string += \"%d %s \\n\" % (exeCount, 'excercise' if exeCount==1 else 'excercises')\n",
    "        string += \"%d %s \\n\" % (gesCount, 'gesture' if gesCount==1 else 'gestures')\n",
    "        string += \"%d %s \\n\" % (winCount, 'window' if gesCount==1 else 'windows')\n",
    "\n",
    "        for ges in self.gestures:\n",
    "            count = len(self.Data[self.Data['ges'] == ges])\n",
    "            string += \"Gesture %d - %d windows\\n\" % (ges, count)\n",
    "                    \n",
    "        return string\n",
    "\n",
    "    def readDataBase(self, folder, subject, exercise):\n",
    "        subjects  = r'\\d+' if subject == 'all' else str(subject).replace(', ', '')\n",
    "        exercises = r'\\d' if exercise == 'all' else str(exercise).replace(', ', '')\n",
    "        match = r'\\AS{}_.*E{}.*\\.mat\\Z'.format(subjects, exercises)\n",
    "\n",
    "        for root, dirs, files in os.walk(folder):\n",
    "            for file in files:\n",
    "                if re.search(match, file):\n",
    "                    self.read(os.path.join(root, file))\n",
    "                    self.subCount += 1\n",
    "                    \n",
    "        self.subjects = set(self.Data['sub'])\n",
    "        self.exercies = set(self.Data['exe'])\n",
    "        self.gestures = set(self.Data['ges'])\n",
    "\n",
    "            \n",
    "    def read(self, file):\n",
    "        print('Reading:', file)\n",
    "        dataset = loadmat(file)\n",
    "        signal = dataset['emg']\n",
    "        \n",
    "        # By default this returns list of lists, each with a single scalar.\n",
    "        # So np.squeeze is used to turn it into a vector.\n",
    "        labels = np.squeeze(dataset['restimulus'])\n",
    "        rep = np.squeeze(dataset['rerepetition'])\n",
    "        \n",
    "        # item() is used to return get scalars instead of lists\n",
    "        exe = dataset['exercise'].item()\n",
    "        sub = dataset['subject'].item() \n",
    "        \n",
    "        \n",
    "        for start in range(0, len(signal) - self.winSize, self.step):\n",
    "            end = start + self.winSize\n",
    "            signal[start:end]\n",
    "            if labels[start] == labels[end-1]:\n",
    "                self.Data = self.Data.append({'sub':sub, 'exe':exe, 'rep':rep[start], 'ges': labels[start],\n",
    "                                               'win': signal[start:end]}, ignore_index=True)\n",
    "                \n",
    "    def readMat(self, folder):\n",
    "        for i in range(self.gesNum):\n",
    "            file = 'motion' + str(i) + '.mat'\n",
    "            print('Reading:', file)\n",
    "            motion = loadmat(os.path.join(folder, file))['motion' + str(i)]\n",
    "            motion = motion[~np.all(motion == 0, axis=1)] # remove rows with all zero values\n",
    "            \n",
    "            step = 64\n",
    "            window = 512\n",
    "            \n",
    "            for start in range(0, len(motion) - window, step):\n",
    "                end = start + window\n",
    "                self.Data[i].append(motion[start:end])\n",
    "                \n",
    "    def splitByRatio(self, ratio):  \n",
    "        [TrainX, ValidX, TrainY, ValidY] = train_test_split(self.Data['win'], self.Data['ges'], test_size=ratio)\n",
    "        return [TrainX, TrainY, ValidX, ValidY]\n",
    "\n",
    "    def splitByCategory(self, name, ls):\n",
    "        TrainX = []\n",
    "        TrainY = []\n",
    "        ValidX = []\n",
    "        ValidY = []\n",
    "        \n",
    "        validIdxs = False * len(self.Data)\n",
    "        for i in ls:\n",
    "            validIdxs |= (df[name] == i)\n",
    "            \n",
    "        ValidX = list(df['win'][validIdxs])\n",
    "        ValidY = list(df['ges'][validIdxs])\n",
    "        \n",
    "        TrainX = list(df['win'][~validIdxs])\n",
    "        TrainY = list(df['ges'][~validIdxs])\n",
    "\n",
    "        return [TrainX, TrainY, ValidX, ValidY]"
   ]
  },
  {
   "cell_type": "code",
   "execution_count": 314,
   "metadata": {},
   "outputs": [
    {
     "data": {
      "text/plain": [
       "array([1, 2, 3, 4, 5, 6, 7, 8])"
      ]
     },
     "execution_count": 314,
     "metadata": {},
     "output_type": "execute_result"
    }
   ],
   "source": [
    "a = np.array([1, 2, 3, 4])\n",
    "b = [5, 6, 7, 8]\n",
    "np.append(a, b)"
   ]
  },
  {
   "cell_type": "code",
   "execution_count": 302,
   "metadata": {},
   "outputs": [
    {
     "ename": "TypeError",
     "evalue": "list indices must be integers or slices, not list",
     "output_type": "error",
     "traceback": [
      "\u001b[1;31m---------------------------------------------------------------------------\u001b[0m",
      "\u001b[1;31mTypeError\u001b[0m                                 Traceback (most recent call last)",
      "\u001b[1;32m<ipython-input-302-2758b3468075>\u001b[0m in \u001b[0;36m<module>\u001b[1;34m\u001b[0m\n\u001b[0;32m      9\u001b[0m \u001b[1;34m\"%d subject%s \\n\"\u001b[0m \u001b[1;33m%\u001b[0m \u001b[1;33m(\u001b[0m\u001b[0msubCount\u001b[0m\u001b[1;33m,\u001b[0m \u001b[1;34m's'\u001b[0m \u001b[1;32mif\u001b[0m \u001b[0msubCount\u001b[0m\u001b[1;33m>\u001b[0m\u001b[1;36m1\u001b[0m \u001b[1;32melse\u001b[0m \u001b[1;34m''\u001b[0m\u001b[1;33m)\u001b[0m\u001b[1;33m\u001b[0m\u001b[1;33m\u001b[0m\u001b[0m\n\u001b[0;32m     10\u001b[0m \u001b[1;33m\u001b[0m\u001b[0m\n\u001b[1;32m---> 11\u001b[1;33m \u001b[0mData\u001b[0m\u001b[1;33m[\u001b[0m\u001b[1;34m'ges'\u001b[0m\u001b[1;33m]\u001b[0m\u001b[1;33m[\u001b[0m\u001b[1;33m[\u001b[0m\u001b[0mx\u001b[0m\u001b[1;33m==\u001b[0m\u001b[1;36m1\u001b[0m \u001b[1;32mfor\u001b[0m \u001b[0mx\u001b[0m \u001b[1;32min\u001b[0m \u001b[0mData\u001b[0m\u001b[1;33m[\u001b[0m\u001b[1;34m'sub'\u001b[0m\u001b[1;33m]\u001b[0m\u001b[1;33m]\u001b[0m\u001b[1;33m]\u001b[0m\u001b[1;33m\u001b[0m\u001b[1;33m\u001b[0m\u001b[0m\n\u001b[0m",
      "\u001b[1;31mTypeError\u001b[0m: list indices must be integers or slices, not list"
     ]
    }
   ],
   "source": [
    "Data = {'sub':[], 'exe':[], 'ges':[], 'rep':[], 'win':[]}\n",
    "Data['sub'].extend([1, 2, 3, 1, 2, 3])\n",
    "Data['exe'].extend([1, 2, 3, 1, 2, 3])\n",
    "Data['ges'].extend([0, 0, 0, 1, 1, 1])\n",
    "Data['rep'].extend([1, 2, 3, 4, 5, 6])\n",
    "Data['win'].extend(TrainX[0:6])\n",
    "\n",
    "subCount = 14\n",
    "\"%d subject%s \\n\" % (subCount, 's' if subCount>1 else '')        \n",
    "\n",
    "Data['ges'][[x==1 for x in Data['sub']]]"
   ]
  },
  {
   "cell_type": "code",
   "execution_count": 51,
   "metadata": {},
   "outputs": [
    {
     "data": {
      "text/plain": [
       "7.416198487095663"
      ]
     },
     "execution_count": 51,
     "metadata": {},
     "output_type": "execute_result"
    }
   ],
   "source": [
    "myList = [0, 0, 0, 1, 2, 3, 4, 5]\n",
    "np.linalg.norm(myList)\n"
   ]
  },
  {
   "cell_type": "code",
   "execution_count": 376,
   "metadata": {},
   "outputs": [
    {
     "name": "stdout",
     "output_type": "stream",
     "text": [
      "100000007\n"
     ]
    }
   ],
   "source": [
    "print(len(myList))"
   ]
  },
  {
   "cell_type": "code",
   "execution_count": 74,
   "metadata": {},
   "outputs": [
    {
     "data": {
      "text/plain": [
       "array([1, 3, 1, 3, 1, 3])"
      ]
     },
     "execution_count": 74,
     "metadata": {},
     "output_type": "execute_result"
    }
   ],
   "source": [
    "x = np.array([1, 2, 3, 4, 1, 2, 3, 4, 1, 2, 3, 4])\n",
    "x[0::2]"
   ]
  },
  {
   "cell_type": "code",
   "execution_count": 49,
   "metadata": {},
   "outputs": [],
   "source": [
    "\n"
   ]
  },
  {
   "cell_type": "code",
   "execution_count": 7,
   "metadata": {},
   "outputs": [
    {
     "ename": "NameError",
     "evalue": "name 'fs' is not defined",
     "output_type": "error",
     "traceback": [
      "\u001b[1;31m---------------------------------------------------------------------------\u001b[0m",
      "\u001b[1;31mNameError\u001b[0m                                 Traceback (most recent call last)",
      "\u001b[1;32m<ipython-input-7-9aea50ab9e37>\u001b[0m in \u001b[0;36m<module>\u001b[1;34m\u001b[0m\n\u001b[1;32m----> 1\u001b[1;33m \u001b[1;32mclass\u001b[0m \u001b[0mNinaproDB\u001b[0m\u001b[1;33m:\u001b[0m\u001b[1;33m\u001b[0m\u001b[1;33m\u001b[0m\u001b[0m\n\u001b[0m\u001b[0;32m      2\u001b[0m     \u001b[0mwinSize\u001b[0m \u001b[1;33m=\u001b[0m \u001b[0mint\u001b[0m\u001b[1;33m(\u001b[0m\u001b[1;36m0.256\u001b[0m \u001b[1;33m*\u001b[0m \u001b[0mfs\u001b[0m\u001b[1;33m)\u001b[0m\u001b[1;33m\u001b[0m\u001b[1;33m\u001b[0m\u001b[0m\n\u001b[0;32m      3\u001b[0m     \u001b[0mstep\u001b[0m \u001b[1;33m=\u001b[0m \u001b[0mint\u001b[0m\u001b[1;33m(\u001b[0m\u001b[1;36m0.032\u001b[0m \u001b[1;33m*\u001b[0m \u001b[0mfs\u001b[0m\u001b[1;33m)\u001b[0m\u001b[1;33m\u001b[0m\u001b[1;33m\u001b[0m\u001b[0m\n\u001b[0;32m      4\u001b[0m \u001b[1;33m\u001b[0m\u001b[0m\n\u001b[0;32m      5\u001b[0m     \u001b[0mfs\u001b[0m \u001b[1;33m=\u001b[0m \u001b[1;36m2000\u001b[0m\u001b[1;33m\u001b[0m\u001b[1;33m\u001b[0m\u001b[0m\n",
      "\u001b[1;32m<ipython-input-7-9aea50ab9e37>\u001b[0m in \u001b[0;36mNinaproDB\u001b[1;34m()\u001b[0m\n\u001b[0;32m      1\u001b[0m \u001b[1;32mclass\u001b[0m \u001b[0mNinaproDB\u001b[0m\u001b[1;33m:\u001b[0m\u001b[1;33m\u001b[0m\u001b[1;33m\u001b[0m\u001b[0m\n\u001b[1;32m----> 2\u001b[1;33m     \u001b[0mwinSize\u001b[0m \u001b[1;33m=\u001b[0m \u001b[0mint\u001b[0m\u001b[1;33m(\u001b[0m\u001b[1;36m0.256\u001b[0m \u001b[1;33m*\u001b[0m \u001b[0mfs\u001b[0m\u001b[1;33m)\u001b[0m\u001b[1;33m\u001b[0m\u001b[1;33m\u001b[0m\u001b[0m\n\u001b[0m\u001b[0;32m      3\u001b[0m     \u001b[0mstep\u001b[0m \u001b[1;33m=\u001b[0m \u001b[0mint\u001b[0m\u001b[1;33m(\u001b[0m\u001b[1;36m0.032\u001b[0m \u001b[1;33m*\u001b[0m \u001b[0mfs\u001b[0m\u001b[1;33m)\u001b[0m\u001b[1;33m\u001b[0m\u001b[1;33m\u001b[0m\u001b[0m\n\u001b[0;32m      4\u001b[0m \u001b[1;33m\u001b[0m\u001b[0m\n\u001b[0;32m      5\u001b[0m     \u001b[0mfs\u001b[0m \u001b[1;33m=\u001b[0m \u001b[1;36m2000\u001b[0m\u001b[1;33m\u001b[0m\u001b[1;33m\u001b[0m\u001b[0m\n",
      "\u001b[1;31mNameError\u001b[0m: name 'fs' is not defined"
     ]
    }
   ],
   "source": [
    "class NinaproDB:\n",
    "    winSize = int(0.256 * fs)\n",
    "    step = int(0.032 * fs)\n",
    "    \n",
    "    fs = 2000\n",
    "    fc = 1  # Cut-off frequency of the filter\n",
    "    w = fc / (fs / 2) # Normalize the frequency\n",
    "    b, a = butter(5, w, 'low')\n",
    "    \n",
    "    subjects  = []\n",
    "    exercises = []\n",
    "    gestures  = []\n",
    "\n",
    "    def __init__(self):\n",
    "        print('winSize:', self.winSize)\n",
    "        print('step:', self.step)\n",
    "        self.Data = {'sub':[], 'exe':[], 'ges':[], 'rep':[], 'win':[]}\n",
    "\n",
    "    def __repr__(self):        \n",
    "        subCount = len(self.subjects)\n",
    "        exeCount = len(self.exercises)\n",
    "        gesCount = len(self.gestures)\n",
    "        winCount = len(self.Data['win'])\n",
    "        \n",
    "        string = self.__class__.__name__ + \" with:\\n\"\n",
    "        string += \"%d %s \\n\" % (subCount, 'subject' if subCount==1 else 'subjects')\n",
    "        string += \"%d %s \\n\" % (exeCount, 'excercise' if exeCount==1 else 'excercises')\n",
    "        string += \"%d %s \\n\" % (gesCount, 'gesture' if gesCount==1 else 'gestures')\n",
    "        string += \"%d %s \\n\" % (winCount, 'window' if gesCount==1 else 'windows')\n",
    "\n",
    "        for ges in self.gestures:\n",
    "            string += \"Gesture %d - %d windows\\n\" % (ges, self.Data['ges'].count(ges))\n",
    "                    \n",
    "        return string\n",
    "\n",
    "    def readDataBase(self, folder, subject, exercise):\n",
    "        subjects  = r'\\d+' if (subject == 'all') else str(subject).replace(', ', '')\n",
    "        exercises = r'\\d' if (exercise == 'all') else str(exercise).replace(', ', '')\n",
    "        \n",
    "        match = r'\\AS{}_.*E{}.*\\.mat\\Z'.format(subjects, exercises)\n",
    "\n",
    "        for root, dirs, files in os.walk(folder):\n",
    "            for file in files:\n",
    "                if re.search(match, file):\n",
    "                    self.read(os.path.join(root, file))\n",
    "                    \n",
    "        self.subjects  = set(self.Data['sub'])\n",
    "        self.exercises = set(self.Data['exe'])\n",
    "        self.gestures  = set(self.Data['ges'])\n",
    "\n",
    "            \n",
    "    def read(self, file):\n",
    "        print('Reading:', file)\n",
    "        dataset = loadmat(file)\n",
    "        signal = dataset['emg']\n",
    "        \n",
    "#         for c in range(signal.shape[1]):\n",
    "#             signal[:,c] = filtfilt(self.b, self.a, signal[:,c])\n",
    "#             X = signal\n",
    "#             X[:,c] /= max(abs(X[:,c]))\n",
    "#             X[:,c] += 10*c\n",
    "\n",
    "#         plt.figure()\n",
    "#         plt.plot(X)\n",
    "        \n",
    "        # By default this returns list of lists, each with a single scalar.\n",
    "        # So np.squeeze is used to turn it into a vector.\n",
    "        ges = np.squeeze(dataset['restimulus'])\n",
    "        rep = np.squeeze(dataset['rerepetition'])\n",
    "               \n",
    "        # item() is used to return get scalars instead of lists\n",
    "        exe = dataset['exercise'].item()\n",
    "        sub = dataset['subject'].item() \n",
    "        \n",
    "        gestStart = next((i for i, x in enumerate(ges) if x!=0)) # returns index of the frist nonzero element\n",
    "        \n",
    "        # Find where the first rest period ends\n",
    "        restEnd = next((i for i, x in enumerate(ges) if x==2)) \n",
    "                \n",
    "        for start in range(gestStart, len(signal) - self.winSize, self.step):\n",
    "            end = start + self.winSize\n",
    "            \n",
    "            # Make sure the same gesture is performed throught the window duaration\n",
    "            if (ges[start] != 0) or (end < restEnd):\n",
    "                if ges[start] == ges[end-1]: \n",
    "                    self.Data['sub'].append(sub)\n",
    "                    self.Data['exe'].append(exe)\n",
    "                    self.Data['rep'].append(rep[start])\n",
    "                    self.Data['ges'].append(ges[start])\n",
    "                    self.Data['win'].append(signal[start:end])\n",
    "                \n",
    "    def readMat(self, folder):\n",
    "        \n",
    "        for i in range(9):\n",
    "            file = 'motion' + str(i) + '.mat'\n",
    "            \n",
    "            print('Reading:', file)\n",
    "            motion = loadmat(os.path.join(folder, file))['motion' + str(i)]\n",
    "            motion = motion[~np.all(motion == 0, axis=1)] # remove rows with all zero values\n",
    "            \n",
    "#             for c in range(motion.shape[1]):\n",
    "#                 motion[:,c] = filtfilt(self.b, self.a, motion[:,c])\n",
    "                      \n",
    "            for start in range(0, len(motion) - self.winSize, self.step):\n",
    "                end = start + self.winSize\n",
    "                \n",
    "                self.Data['ges'].append(i)\n",
    "                self.Data['win'].append(motion[start:end])\n",
    "                \n",
    "        self.subjects  = set(self.Data['sub'])\n",
    "        self.exercises = set(self.Data['exe'])\n",
    "        self.gestures  = set(self.Data['ges'])\n",
    "                \n",
    "    def splitByRatio(self, ratio):  \n",
    "        [TrainX, ValidX, TrainY, ValidY] = train_test_split(self.Data['win'], self.Data['ges'], test_size=ratio, shuffle=True)\n",
    "        return [TrainX, TrainY, ValidX, ValidY]\n",
    "\n",
    "    def splitByCategory(self, name, ls):\n",
    "        DF = pd.DataFrame(self.Data)\n",
    "        \n",
    "        TrainX = []\n",
    "        TrainY = []\n",
    "        ValidX = []\n",
    "        ValidY = []\n",
    "        \n",
    "        validIdxs = False * len(self.Data)\n",
    "        for i in ls:\n",
    "            validIdxs |= (DF[name] == i)\n",
    "            \n",
    "        ValidX = list(DF['win'][validIdxs])\n",
    "        ValidY = list(DF['ges'][validIdxs])\n",
    "        \n",
    "        TrainX = list(DF['win'][~validIdxs])\n",
    "        TrainY = list(DF['ges'][~validIdxs])\n",
    "\n",
    "        return [TrainX, TrainY, ValidX, ValidY]"
   ]
  },
  {
   "cell_type": "code",
   "execution_count": 28,
   "metadata": {},
   "outputs": [
    {
     "data": {
      "text/plain": [
       "[<matplotlib.lines.Line2D at 0x1dad783d4c8>]"
      ]
     },
     "execution_count": 28,
     "metadata": {},
     "output_type": "execute_result"
    }
   ],
   "source": [
    "dataset = loadmat(r'C:\\Users\\Mark\\Downloads\\Datbase 1\\S1_A1_E1.mat')\n",
    "signal = dataset['emg']\n",
    "labels = np.squeeze(dataset['stimulus']) \n",
    "Fs = 100\n",
    "X = np.array(range(len(signal))) / Fs\n",
    "%matplotlib qt \n",
    "plt.plot(X, labels)"
   ]
  },
  {
   "cell_type": "code",
   "execution_count": 29,
   "metadata": {},
   "outputs": [
    {
     "data": {
      "text/plain": [
       "512.0"
      ]
     },
     "execution_count": 29,
     "metadata": {},
     "output_type": "execute_result"
    }
   ],
   "source": [
    "0.256 * 2000"
   ]
  },
  {
   "cell_type": "code",
   "execution_count": 9,
   "metadata": {
    "scrolled": false
   },
   "outputs": [
    {
     "name": "stdout",
     "output_type": "stream",
     "text": [
      "winSize: 15\n",
      "step: 6\n",
      "Reading: C:\\Users\\Mark\\Downloads\\Database 1\\S1_A1_E1.mat\n",
      "Reading: C:\\Users\\Mark\\Downloads\\Database 1\\S2_A1_E1.mat\n",
      "Reading: C:\\Users\\Mark\\Downloads\\Database 1\\S3_A1_E1.mat\n",
      "Reading: C:\\Users\\Mark\\Downloads\\Database 1\\S4_A1_E1.mat\n",
      "Reading: C:\\Users\\Mark\\Downloads\\Database 1\\S5_A1_E1.mat\n",
      "NinaproDB with:\n",
      "5 subjects \n",
      "1 excercise \n",
      "13 gestures \n",
      "38855 windows \n",
      "Gesture 0 - 3668 windows\n",
      "Gesture 1 - 3002 windows\n",
      "Gesture 2 - 2901 windows\n",
      "Gesture 3 - 3355 windows\n",
      "Gesture 4 - 2725 windows\n",
      "Gesture 5 - 3269 windows\n",
      "Gesture 6 - 2880 windows\n",
      "Gesture 7 - 2872 windows\n",
      "Gesture 8 - 2888 windows\n",
      "Gesture 9 - 2745 windows\n",
      "Gesture 10 - 2753 windows\n",
      "Gesture 11 - 2747 windows\n",
      "Gesture 12 - 3050 windows\n",
      "\n",
      "[26032, 26032, 12823, 12823]\n",
      "Ratio: 0.33002187620640844\n",
      "<class 'numpy.ndarray'>\n",
      "(15, 10, 1)\n",
      "{0, 1, 2, 3, 4, 5, 6, 7, 8, 9, 10, 11, 12}\n"
     ]
    }
   ],
   "source": [
    "## IMPORT DATA ##\n",
    "\n",
    "DB = NinaproDB()\n",
    "DB.readDataBase(r'C:\\Users\\Mark\\Downloads\\Database 1', [1, 2, 3, 4, 5], 1)\n",
    "\n",
    "print(DB)\n",
    "\n",
    "\n",
    "# [TrainX, TrainY, ValidX, ValidY] = DB.splitByCategory('rep', [2, 5, 7])\n",
    "[TrainX, TrainY, ValidX, ValidY] = DB.splitByRatio(0.33)\n",
    "lengths = list(map(len, [TrainX, TrainY, ValidX, ValidY]))\n",
    "print(lengths)\n",
    "print('Ratio:', lengths[3]/(lengths[3]+lengths[1]))\n",
    "\n",
    "# Add a colour channel dimension for conv net input\n",
    "TrainX = [np.expand_dims(x, axis=2) for x in TrainX]\n",
    "TrainX = np.stack(TrainX, axis=0 )\n",
    "\n",
    "ValidX = [np.expand_dims(x, axis=2) for x in ValidX]\n",
    "ValidX = np.stack(ValidX, axis=0 )\n",
    "\n",
    "\n",
    "# c = list(zip(TrainX, TrainY))\n",
    "# np.random.shuffle(c)\n",
    "# TrainX, TrainY = zip(*c)\n",
    "# TrainX = np.array(TrainX)\n",
    "# TrainY = np.array(TrainY)\n",
    "\n",
    "print(type(TrainX))\n",
    "print(TrainX[0].shape)\n",
    "print(set(ValidY))\n"
   ]
  },
  {
   "cell_type": "code",
   "execution_count": 350,
   "metadata": {},
   "outputs": [
    {
     "data": {
      "text/plain": [
       "6394"
      ]
     },
     "execution_count": 350,
     "metadata": {},
     "output_type": "execute_result"
    }
   ],
   "source": [
    "3849/(7813+3849)"
   ]
  },
  {
   "cell_type": "code",
   "execution_count": 25,
   "metadata": {},
   "outputs": [
    {
     "data": {
      "text/plain": [
       "[<matplotlib.lines.Line2D at 0x24395601bc8>,\n",
       " <matplotlib.lines.Line2D at 0x2439560de88>,\n",
       " <matplotlib.lines.Line2D at 0x24395614088>,\n",
       " <matplotlib.lines.Line2D at 0x24395614248>,\n",
       " <matplotlib.lines.Line2D at 0x24395614448>,\n",
       " <matplotlib.lines.Line2D at 0x24395614688>,\n",
       " <matplotlib.lines.Line2D at 0x24395614888>,\n",
       " <matplotlib.lines.Line2D at 0x24395614ac8>]"
      ]
     },
     "execution_count": 25,
     "metadata": {},
     "output_type": "execute_result"
    },
    {
     "data": {
      "image/png": "[encoded data removed]",
      "text/plain": [
       "<Figure size 432x288 with 1 Axes>"
      ]
     },
     "metadata": {
      "needs_background": "light"
     },
     "output_type": "display_data"
    }
   ],
   "source": [
    "%matplotlib inline\n",
    "plt.plot(np.squeeze(TrainX[4]))"
   ]
  },
  {
   "cell_type": "code",
   "execution_count": 98,
   "metadata": {},
   "outputs": [
    {
     "data": {
      "text/plain": [
       "[<matplotlib.lines.Line2D at 0x1df0c630dc8>,\n",
       " <matplotlib.lines.Line2D at 0x1df55e775c8>,\n",
       " <matplotlib.lines.Line2D at 0x1df55e77788>,\n",
       " <matplotlib.lines.Line2D at 0x1df55e77948>,\n",
       " <matplotlib.lines.Line2D at 0x1df55e77b48>,\n",
       " <matplotlib.lines.Line2D at 0x1df55e77d88>,\n",
       " <matplotlib.lines.Line2D at 0x1df55e77f88>,\n",
       " <matplotlib.lines.Line2D at 0x1df55e7d208>,\n",
       " <matplotlib.lines.Line2D at 0x1df55e77b08>,\n",
       " <matplotlib.lines.Line2D at 0x1df55e77d08>,\n",
       " <matplotlib.lines.Line2D at 0x1df55df0608>,\n",
       " <matplotlib.lines.Line2D at 0x1df55e7da48>]"
      ]
     },
     "execution_count": 98,
     "metadata": {},
     "output_type": "execute_result"
    }
   ],
   "source": [
    "n = 6\n",
    "a = TrainX[n]\n",
    "\n",
    "# Add a colour channel dimension for conv net input\n",
    "TrainXX = [np.expand_dims(x, axis=2) for x in TrainX]\n",
    "TrainXX = np.stack(TrainXX, axis=0 )\n",
    "\n",
    "b = TrainXX[n]\n",
    "plt.figure(0)\n",
    "plt.plot(a)\n",
    "\n",
    "plt.figure(1)\n",
    "plt.plot(np.squeeze(b))\n",
    "\n",
    "for i in range(a.shape[0]):\n",
    "    for j in range(a.shape[1]):\n",
    "        if not a[i,j] == b[i,j,0]:\n",
    "            print(i,j)"
   ]
  },
  {
   "cell_type": "code",
   "execution_count": 4,
   "metadata": {},
   "outputs": [
    {
     "ename": "NameError",
     "evalue": "name 'NinaproDB' is not defined",
     "output_type": "error",
     "traceback": [
      "\u001b[1;31m---------------------------------------------------------------------------\u001b[0m",
      "\u001b[1;31mNameError\u001b[0m                                 Traceback (most recent call last)",
      "\u001b[1;32m<ipython-input-4-73cd63775766>\u001b[0m in \u001b[0;36m<module>\u001b[1;34m\u001b[0m\n\u001b[0;32m      1\u001b[0m \u001b[1;31m## IMPORT EXAMPLE DATA ##\u001b[0m\u001b[1;33m\u001b[0m\u001b[1;33m\u001b[0m\u001b[1;33m\u001b[0m\u001b[0m\n\u001b[0;32m      2\u001b[0m \u001b[1;33m\u001b[0m\u001b[0m\n\u001b[1;32m----> 3\u001b[1;33m \u001b[0mDB\u001b[0m \u001b[1;33m=\u001b[0m \u001b[0mNinaproDB\u001b[0m\u001b[1;33m(\u001b[0m\u001b[1;33m)\u001b[0m\u001b[1;33m\u001b[0m\u001b[1;33m\u001b[0m\u001b[0m\n\u001b[0m\u001b[0;32m      4\u001b[0m \u001b[0mDB\u001b[0m\u001b[1;33m.\u001b[0m\u001b[0mreadMat\u001b[0m\u001b[1;33m(\u001b[0m\u001b[1;34mr'C:\\Users\\Mark\\Desktop\\Pattern Recognition Algorithms_matlab'\u001b[0m\u001b[1;33m)\u001b[0m\u001b[1;33m\u001b[0m\u001b[1;33m\u001b[0m\u001b[0m\n\u001b[0;32m      5\u001b[0m \u001b[0mprint\u001b[0m\u001b[1;33m(\u001b[0m\u001b[0mDB\u001b[0m\u001b[1;33m)\u001b[0m\u001b[1;33m\u001b[0m\u001b[1;33m\u001b[0m\u001b[0m\n",
      "\u001b[1;31mNameError\u001b[0m: name 'NinaproDB' is not defined"
     ]
    }
   ],
   "source": [
    "## IMPORT EXAMPLE DATA ##\n",
    "\n",
    "DB = NinaproDB()\n",
    "DB.readMat(r'C:\\Users\\Mark\\Desktop\\Pattern Recognition Algorithms_matlab')\n",
    "print(DB)\n",
    "\n",
    "[TrainX, TrainY, ValidX, ValidY] = DB.splitByRatio(0.3)\n",
    "print(list(map(len, [TrainX, TrainY, ValidX, ValidY])))\n",
    "\n",
    "# Add a colour channel dimension for conv net input\n",
    "TrainX = [np.expand_dims(x, axis=2) for x in TrainX]\n",
    "TrainX = np.stack(TrainX, axis=0 )\n",
    "\n",
    "ValidX = [np.expand_dims(x, axis=2) for x in ValidX]\n",
    "ValidX = np.stack(ValidX, axis=0 )\n",
    "\n",
    "print(TrainX[0].shape)\n",
    "print(set(TrainY))\n",
    "print(set(ValidY))"
   ]
  },
  {
   "cell_type": "code",
   "execution_count": 1,
   "metadata": {},
   "outputs": [
    {
     "ename": "NameError",
     "evalue": "name 'DB' is not defined",
     "output_type": "error",
     "traceback": [
      "\u001b[1;31m---------------------------------------------------------------------------\u001b[0m",
      "\u001b[1;31mNameError\u001b[0m                                 Traceback (most recent call last)",
      "\u001b[1;32m<ipython-input-1-887eb4d2176e>\u001b[0m in \u001b[0;36m<module>\u001b[1;34m\u001b[0m\n\u001b[0;32m      3\u001b[0m \u001b[0mfilter_size\u001b[0m \u001b[1;33m=\u001b[0m \u001b[1;36m3\u001b[0m\u001b[1;33m\u001b[0m\u001b[1;33m\u001b[0m\u001b[0m\n\u001b[0;32m      4\u001b[0m \u001b[0mpool_size\u001b[0m \u001b[1;33m=\u001b[0m \u001b[1;36m2\u001b[0m\u001b[1;33m\u001b[0m\u001b[1;33m\u001b[0m\u001b[0m\n\u001b[1;32m----> 5\u001b[1;33m \u001b[0mnum_classes\u001b[0m \u001b[1;33m=\u001b[0m \u001b[0mlen\u001b[0m\u001b[1;33m(\u001b[0m\u001b[0mDB\u001b[0m\u001b[1;33m.\u001b[0m\u001b[0mgestures\u001b[0m\u001b[1;33m)\u001b[0m\u001b[1;33m\u001b[0m\u001b[1;33m\u001b[0m\u001b[0m\n\u001b[0m\u001b[0;32m      6\u001b[0m \u001b[0minput_shape\u001b[0m \u001b[1;33m=\u001b[0m \u001b[0mTrainX\u001b[0m\u001b[1;33m[\u001b[0m\u001b[1;36m0\u001b[0m\u001b[1;33m]\u001b[0m\u001b[1;33m.\u001b[0m\u001b[0mshape\u001b[0m\u001b[1;33m\u001b[0m\u001b[1;33m\u001b[0m\u001b[0m\n\u001b[0;32m      7\u001b[0m \u001b[0mdecay\u001b[0m \u001b[1;33m=\u001b[0m \u001b[0ml1\u001b[0m\u001b[1;33m(\u001b[0m\u001b[1;36m0.0005\u001b[0m\u001b[1;33m)\u001b[0m\u001b[1;33m\u001b[0m\u001b[1;33m\u001b[0m\u001b[0m\n",
      "\u001b[1;31mNameError\u001b[0m: name 'DB' is not defined"
     ]
    }
   ],
   "source": [
    "## CREATE NETWORK ##\n",
    "num_filters = 8\n",
    "filter_size = 3\n",
    "pool_size = 2\n",
    "num_classes = len(DB.gestures)\n",
    "input_shape = TrainX[0].shape\n",
    "decay = l1(0.0005)\n",
    "\n",
    "model = Sequential()\n",
    "# model.add(Conv2D(32, kernel_size=(5, 5), strides=1,\n",
    "#                  activation='relu',\n",
    "#                  input_shape=(512,8,1), data_format=\"channels_last\"))\n",
    "# model.add(MaxPooling2D(pool_size=(2, 2), strides=2))\n",
    "\n",
    "# model.add(Conv2D(64, (5, 5), activation='relu'))\n",
    "# model.add(MaxPooling2D(pool_size=(2, 2)))\n",
    "\n",
    "# model.add(Flatten())\n",
    "# model.add(Dense(1000, activation='relu'))\n",
    "\n",
    "# model.add(Dense(num_classes, activation='softmax'))\n",
    "\n",
    "## PAPER 2 ##\n",
    "# decay = l2(0.0005)\n",
    "# model.add(Conv2D(32, kernel_size=(1,input_shape[1]), activation='relu', input_shape=input_shape, padding='same', kernel_regularizer=decay))\n",
    "\n",
    "# model.add(Conv2D(32, kernel_size=3, activation='relu', padding='same', kernel_regularizer=decay))\n",
    "# model.add(AveragePooling2D(pool_size=2))\n",
    "\n",
    "# model.add(Conv2D(64, kernel_size=5, activation='relu', padding='same', kernel_regularizer=decay))\n",
    "# model.add(AveragePooling2D(pool_size=2))\n",
    "\n",
    "# model.add(Conv2D(64, kernel_size=(5,1), activation='relu', padding='same', kernel_regularizer=decay))\n",
    "# model.add(Conv2D(64, kernel_size=1, activation='relu', padding='same', kernel_regularizer=decay))\n",
    "# model.add(Flatten())\n",
    "# model.add(Dense(num_classes, activation='softmax', kernel_regularizer=decay))\n",
    "\n",
    "## PAPER 3 ##\n",
    "model.add(BatchNormalization(input_shape=input_shape))\n",
    "model.add(Conv2D(32, kernel_size=5, activation='relu',  padding='same'))\n",
    "# model.add(BatchNormalization())\n",
    "\n",
    "model.add(MaxPooling2D(pool_size=(2, 2), strides=2))\n",
    "\n",
    "model.add(Conv2D(64, kernel_size=3, activation='relu', padding='same'))\n",
    "# model.add(BatchNormalization())\n",
    "# model.add(Dropout(.2))\n",
    "\n",
    "# model.add(MaxPooling2D(pool_size=(2, 2), strides=2))\n",
    "\n",
    "# model.add(Conv2D(64, kernel_size=3, activation='relu', padding='same'))\n",
    "# model.add(MaxPooling2D(pool_size=(2, 2), strides=2))\n",
    "\n",
    "model.add(Flatten())\n",
    "# model.add(Dropout(.5))\n",
    "model.add(Dense(num_classes, activation='softmax'))\n",
    "\n",
    "print(model.summary())\n",
    "\n",
    "#compile model using accuracy to measure model performance\n",
    "optimizer = optimizers.SGD(learning_rate=0.001, momentum=0.9)\n",
    "model.compile(optimizer=optimizer, loss='categorical_crossentropy', metrics=['accuracy'])\n",
    "\n",
    "## TRAIN THE MODEL.##\n",
    "model.fit(\n",
    "    TrainX,\n",
    "    to_categorical(TrainY),\n",
    "    epochs=15,\n",
    "    batch_size=64,\n",
    "    validation_data=(ValidX, to_categorical(ValidY)),\n",
    "    shuffle=True\n",
    ")\n",
    "\n",
    "\n",
    "# Save/Load weights\n",
    "# datetime object containing current date and time\n",
    "# now = datetime.now()\n",
    "# dt_string = now.strftime(\"Trained Wieghts/%d_%m_%Y_%H_%M\")\n",
    "# model.save_weights('%s.h5' % dt_string)\n",
    "\n",
    "\n",
    "# Predict on the first 5 test images.\n",
    "predictions = np.argmax(model.predict(ValidX), axis=1)\n",
    "\n",
    "# Print our model's predictions.\n",
    "print('Predictions:\\t', predictions[:20]) \n",
    "\n",
    "# Check our predictions against the ground truths.\n",
    "print('Answers:\\t\\t', ValidY[:20]) \n",
    "\n",
    "correct = predictions[ValidY==predictions]\n",
    "\n",
    "print('Unique (pred):\\t\\t', set(predictions))\n",
    "print('Unique (correct):\\t', set(correct))\n",
    "\n",
    "cm = confusion_matrix(ValidY, predictions, normalize='true')\n",
    "\n",
    "print(cm)\n",
    "\n",
    "%matplotlib inline\n",
    "plt.figure()\n",
    "plt.imshow(cm, cmap=plt.cm.Blues)\n",
    "plt.xlabel(\"Predicted labels\")\n",
    "plt.ylabel(\"True labels\")\n",
    "# plt.xticks([], [])\n",
    "# plt.yticks([], [])\n",
    "plt.title('Confusion matrix ')\n",
    "plt.colorbar()\n",
    "# plt.savefig('%s.png' % dt_string)\n",
    "plt.show()\n",
    "\n",
    "\n",
    "# plt.subplot(122)\n",
    "# plt.hist(predictions, bins=11)  # arguments are passed to np.histogram\n",
    "# print(np.histogram(predictions, bins=11))\n",
    "# plt.title('Predictions')\n",
    "\n",
    "# plt.subplot(121)\n",
    "# plt.hist(correct, bins=11)  # arguments are passed to np.histogram\n",
    "# plt.title('Correct')\n",
    "# plt.show()"
   ]
  },
  {
   "cell_type": "code",
   "execution_count": 57,
   "metadata": {},
   "outputs": [
    {
     "name": "stdout",
     "output_type": "stream",
     "text": [
      "Predictions:\t [7 7 7 7 7 7 7 7 7 7 7 7 7 7 7 7 7 7 7 7]\n",
      "Answers:\t\t [2, 3, 8, 1, 4, 5, 7, 0, 6, 7, 3, 2, 1, 1, 7, 3, 4, 4, 2, 0]\n",
      "Unique (pred):\t\t {7}\n",
      "Unique (correct):\t {7}\n",
      "[[0. 0. 0. 0. 0. 0. 0. 1. 0.]\n",
      " [0. 0. 0. 0. 0. 0. 0. 1. 0.]\n",
      " [0. 0. 0. 0. 0. 0. 0. 1. 0.]\n",
      " [0. 0. 0. 0. 0. 0. 0. 1. 0.]\n",
      " [0. 0. 0. 0. 0. 0. 0. 1. 0.]\n",
      " [0. 0. 0. 0. 0. 0. 0. 1. 0.]\n",
      " [0. 0. 0. 0. 0. 0. 0. 1. 0.]\n",
      " [0. 0. 0. 0. 0. 0. 0. 1. 0.]\n",
      " [0. 0. 0. 0. 0. 0. 0. 1. 0.]]\n"
     ]
    },
    {
     "data": {
      "image/png": "[encoded data removed]",
      "text/plain": [
       "<Figure size 432x288 with 2 Axes>"
      ]
     },
     "metadata": {
      "needs_background": "light"
     },
     "output_type": "display_data"
    }
   ],
   "source": [
    "# Predict on the first 5 test images.\n",
    "predictions = np.argmax(model.predict(ValidX), axis=1)\n",
    "\n",
    "# Print our model's predictions.\n",
    "print('Predictions:\\t', predictions[:20]) \n",
    "\n",
    "# Check our predictions against the ground truths.\n",
    "print('Answers:\\t\\t', ValidY[:20]) \n",
    "\n",
    "correct = predictions[ValidY==predictions]\n",
    "\n",
    "print('Unique (pred):\\t\\t', set(predictions))\n",
    "print('Unique (correct):\\t', set(correct))\n",
    "\n",
    "cm = confusion_matrix(ValidY, predictions, normalize='true')\n",
    "\n",
    "print(cm)\n",
    "\n",
    "%matplotlib inline\n",
    "plt.figure()\n",
    "plt.imshow(cm, cmap=plt.cm.Blues)\n",
    "plt.xlabel(\"Predicted labels\")\n",
    "plt.ylabel(\"True labels\")\n",
    "# plt.xticks([], [])\n",
    "# plt.yticks([], [])\n",
    "plt.title('Confusion matrix ')\n",
    "plt.colorbar()\n",
    "# plt.savefig('%s.png' % dt_string)\n",
    "plt.show()\n"
   ]
  },
  {
   "cell_type": "code",
   "execution_count": 17,
   "metadata": {},
   "outputs": [
    {
     "data": {
      "text/plain": [
       "'Trained Wieghts/16_05_2020_10_54'"
      ]
     },
     "execution_count": 17,
     "metadata": {},
     "output_type": "execute_result"
    }
   ],
   "source": [
    "\n"
   ]
  }
 ],
 "metadata": {
  "kernelspec": {
   "display_name": "Python 3",
   "language": "python",
   "name": "python3"
  },
  "language_info": {
   "codemirror_mode": {
    "name": "ipython",
    "version": 3
   },
   "file_extension": ".py",
   "mimetype": "text/x-python",
   "name": "python",
   "nbconvert_exporter": "python",
   "pygments_lexer": "ipython3",
   "version": "3.7.6"
  }
 },
 "nbformat": 4,
 "nbformat_minor": 4
}
